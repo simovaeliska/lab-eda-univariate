{
 "cells": [
  {
   "cell_type": "code",
   "execution_count": null,
   "id": "f5bfca4f-dc1d-45fb-8aa9-9ffb719118e2",
   "metadata": {},
   "outputs": [],
   "source": [
    "import pandas as pd\n",
    "import matplotlib.pyplot as plt\n",
    "import seaborn as sns\n",
    "import numpy as np\n",
    "\n",
    "%matplotlib inline"
   ]
  },
  {
   "cell_type": "code",
   "execution_count": null,
   "id": "bacfd46a-f375-4ef9-bdd1-36b32d1d241d",
   "metadata": {},
   "outputs": [],
   "source": [
    "df = pd.read_csv(\"amz_uk_price_prediction_dataset.csv\")\n",
    "df.head()"
   ]
  },
  {
   "cell_type": "code",
   "execution_count": null,
   "id": "a88ec9fe-d654-4100-9b7a-358d3af0a562",
   "metadata": {},
   "outputs": [],
   "source": [
    "#Part 1: Understanding Product Categories\n",
    "\n",
    "#Business Question: What are the most popular product categories on Amazon UK, and how do they compare in terms of listing frequency?\n",
    "\n",
    "#Frequency Tables:\n",
    "#Generate a frequency table for the product category.\n",
    "#Which are the top 5 most listed product categories?\n",
    "\n",
    "#Visualizations:\n",
    "#Display the distribution of products across different categories using a bar chart. If you face problems understanding the chart, do it for a subset of top categories.\n",
    "#For a subset of top categories, visualize their proportions using a pie chart. Does any category dominate the listings?"
   ]
  },
  {
   "cell_type": "code",
   "execution_count": null,
   "id": "f08473e7-e32e-4ed0-bae9-92f79cfc1476",
   "metadata": {},
   "outputs": [],
   "source": [
    "df.dtypes #checking the types for identifying the right visualization"
   ]
  },
  {
   "cell_type": "code",
   "execution_count": null,
   "id": "59fcb3f4-20d7-49f8-aab4-29857b914c32",
   "metadata": {},
   "outputs": [],
   "source": [
    "df.describe"
   ]
  },
  {
   "cell_type": "code",
   "execution_count": null,
   "id": "9ec31577-27c9-4a64-91c9-658943c9801f",
   "metadata": {},
   "outputs": [],
   "source": [
    "#Generate a frequency table for the product category.\n",
    "top_5_product_cat = df[\"category\"].value_counts().head(5)\n",
    "top_5_product_cat"
   ]
  },
  {
   "cell_type": "code",
   "execution_count": null,
   "id": "45f22f74-8cef-44d2-aa21-c2499dab6bc9",
   "metadata": {},
   "outputs": [],
   "source": [
    "#Display the distribution of products across different categories using a bar chart. If you face problems understanding the chart, do it for a subset of top categories.\n",
    "top_5_product_cat.plot(kind=\"bar\", color=\"salmon\", figsize=(8, 5));"
   ]
  },
  {
   "cell_type": "code",
   "execution_count": null,
   "id": "23a516a0-8c07-437a-b904-4ca7742b5d6e",
   "metadata": {},
   "outputs": [],
   "source": [
    "#For a subset of top categories, visualize their proportions using a pie chart. Does any category dominate the listings?\n",
    "top_5_product_cat.plot(kind=\"pie\");\n",
    "#Sports & Outdoors are the most dominant"
   ]
  },
  {
   "cell_type": "code",
   "execution_count": null,
   "id": "bc4fd745-daee-44fa-8eca-75acd337e4f2",
   "metadata": {},
   "outputs": [],
   "source": [
    "#Part 2: Delving into Product Pricing\n",
    "#Business Question: How are products priced on Amazon UK, and are there specific price points or ranges that are more common?\n",
    "\n",
    "#Measures of Centrality:\n",
    "#Calculate the mean, median, and mode for the price of products.\n",
    "#What's the average price point of products listed? How does this compare with the most common price point (mode)?\n",
    "\n",
    "#Measures of Dispersion:\n",
    "#Determine the variance, standard deviation, range, and interquartile range for product price.\n",
    "#How varied are the product prices? Are there any indicators of a significant spread in prices?\n",
    "\n",
    "#Visualizations:\n",
    "#Is there a specific price range where most products fall? Plot a histogram to visualize the distribution of product prices. If its hard to read these diagrams, think why this is, and explain how it could be solved..\n",
    "#Are there products that are priced significantly higher than the rest? Use a box plot to showcase the spread and potential outliers in product pricing."
   ]
  },
  {
   "cell_type": "code",
   "execution_count": null,
   "id": "e1356807-09b7-49d7-8ac9-26a3c8e411c7",
   "metadata": {},
   "outputs": [],
   "source": [
    "#Business Question: How are products priced on Amazon UK, and are there specific price points or ranges that are more common?\n",
    "df[\"price\"].value_counts"
   ]
  },
  {
   "cell_type": "code",
   "execution_count": null,
   "id": "7fb859ef-46cd-4e9f-918f-e7f97fa6c4a6",
   "metadata": {},
   "outputs": [],
   "source": [
    "#Calculate the mean, median, and mode for the price of products.\n",
    "print(\"mean:\", df[\"price\"].mean())\n",
    "print(\"median:\", df[\"price\"].median())\n",
    "print(\"mode:\",df[\"price\"].mode())\n",
    "#How varied are the product prices? Are there any indicators of a significant spread in prices?\n",
    "print(\"Mean is significally affected by extremely high prices - outliers\")"
   ]
  },
  {
   "cell_type": "code",
   "execution_count": null,
   "id": "05288be4-7ece-4bce-9563-ea671f54caba",
   "metadata": {},
   "outputs": [],
   "source": [
    "#Determine the variance, standard deviation, range, and interquartile range for product price.\n",
    "#How varied are the product prices? Are there any indicators of a significant spread in prices?va = print(\"mean:\", df[\"price\"].mean())\n",
    "print(\"variation:\", df[\"price\"].var())\n",
    "print(\"standard deviation:\",df[\"price\"].std())\n",
    "max = df[\"price\"].max()\n",
    "min = df[\"price\"].min()\n",
    "print(\"range:\", max - min)\n",
    "\n",
    "Q1 = df[\"price\"].quantile(0.25)\n",
    "Q3 = df[\"price\"].quantile(0.75)\n",
    "print(\"interquartile range:\", Q3 - Q1)\n",
    "print(\"Price range indicates that prices vary widely. IQR indicates that most of the product prices are much less spread out compared to the full range.\")"
   ]
  },
  {
   "cell_type": "code",
   "execution_count": null,
   "id": "bd62fbeb-9e04-4ccf-8807-9068e37fe7ef",
   "metadata": {},
   "outputs": [],
   "source": [
    "#Visualizations:\n",
    "#Is there a specific price range where most products fall? Plot a histogram to visualize the distribution of product prices. If its hard to read these diagrams, think why this is, and explain how it could be solved..\n",
    "#Are there products that are priced significantly higher than the rest? Use a box plot to showcase the spread and potential outliers in product pricing.\n",
    "\n",
    "df[\"price\"].plot(kind=\"hist\");\n",
    "#sns.histplot(df[\"price\"], kde= True, bins=10, color= \"salmon\");"
   ]
  },
  {
   "cell_type": "code",
   "execution_count": null,
   "id": "a00c3d13-7ac9-4eb9-9759-486638b73015",
   "metadata": {},
   "outputs": [],
   "source": [
    "sns.boxplot(x = df[\"price\"], color=\"blue\");\n",
    "#significally right-skewed"
   ]
  },
  {
   "cell_type": "code",
   "execution_count": null,
   "id": "d54f9e7e-7514-4623-9c2f-66c0d128dcd6",
   "metadata": {},
   "outputs": [],
   "source": [
    "print(f\"The skewness of 'price' is: {df['price'].skew(): .2f}\")\n"
   ]
  },
  {
   "cell_type": "code",
   "execution_count": null,
   "id": "1ebea2bc-bb51-4790-b2c2-4912598df00c",
   "metadata": {},
   "outputs": [],
   "source": [
    "#Part 3: Unpacking Product Ratings\n",
    "\n",
    "#Business Question: How do customers rate products on Amazon UK, and are there any patterns or tendencies in the ratings?\n",
    "\n",
    "#Measures of Centrality:\n",
    "#Calculate the mean, median, and mode for the rating of products.\n",
    "#How do customers generally rate products? Is there a common trend?\n",
    "\n",
    "#Measures of Dispersion:\n",
    "#Determine the variance, standard deviation, and interquartile range for product rating.\n",
    "#Are the ratings consistent, or is there a wide variation in customer feedback?\n",
    "\n",
    "#Shape of the Distribution:\n",
    "#Calculate the skewness and kurtosis for the rating column.\n",
    "#Are the ratings normally distributed, or do they lean towards higher or lower values?\n",
    "\n",
    "#Visualizations:\n",
    "#Plot a histogram to visualize the distribution of product ratings. Is there a specific rating that is more common?"
   ]
  },
  {
   "cell_type": "code",
   "execution_count": null,
   "id": "fa73f0ae-a5aa-4176-9ed4-8394e8a1ba5e",
   "metadata": {},
   "outputs": [],
   "source": [
    "#Business Question: How do customers rate products on Amazon UK, and are there any patterns or tendencies in the ratings?\n",
    "print(df[\"stars\"].value_counts().head(15))\n",
    "print(\"Customers usually tend to rate if they do like the product. Since the largest group is 0.0, we can also assume customers tend to ignore the ratings.\")"
   ]
  },
  {
   "cell_type": "code",
   "execution_count": null,
   "id": "b196a2f8-4224-4f09-8a28-15b7ef766b07",
   "metadata": {},
   "outputs": [],
   "source": [
    "#Measures of Centrality:\n",
    "#Calculate the mean, median, and mode for the rating of products.\n",
    "#How do customers generally rate products? Is there a common trend?\n",
    "print(\"mean:\", df[\"stars\"].mean())\n",
    "print(\"median:\", df[\"stars\"].median())\n",
    "print(\"mode:\",df[\"stars\"].mode())\n",
    "print(\"This indicates that the average rating is low, which might be affected by the large number of 0.0 ratings (likely representing unrated products)\")"
   ]
  },
  {
   "cell_type": "code",
   "execution_count": null,
   "id": "627a1e7e-40b2-4e3c-864a-238172cc886d",
   "metadata": {},
   "outputs": [],
   "source": [
    "#Measures of Dispersion:\n",
    "#Determine the variance, standard deviation, and interquartile range for product rating.\n",
    "#Are the ratings consistent, or is there a wide variation in customer feedback?\n",
    "print(\"standard deviation:\", df[\"stars\"].std())\n",
    "print(\"variance:\", df[\"stars\"].var())\n",
    "min = df[\"stars\"].min()\n",
    "max = df[\"stars\"].max()\n",
    "print(\"interquartile range:\", max-min)\n",
    "#In this case, the standard deviation suggests that customer ratings vary widely, with many ratings spread across the spectrum from 0 to 5, variance confirms the same trend"
   ]
  },
  {
   "cell_type": "code",
   "execution_count": null,
   "id": "b9fcaf89-3cd5-4b32-87c2-934c787ed89d",
   "metadata": {},
   "outputs": [],
   "source": []
  }
 ],
 "metadata": {
  "kernelspec": {
   "display_name": "Python 3 (ipykernel)",
   "language": "python",
   "name": "python3"
  },
  "language_info": {
   "codemirror_mode": {
    "name": "ipython",
    "version": 3
   },
   "file_extension": ".py",
   "mimetype": "text/x-python",
   "name": "python",
   "nbconvert_exporter": "python",
   "pygments_lexer": "ipython3",
   "version": "3.12.4"
  }
 },
 "nbformat": 4,
 "nbformat_minor": 5
}
